{
 "cells": [
  {
   "cell_type": "code",
   "execution_count": 5,
   "metadata": {
    "collapsed": false
   },
   "outputs": [
    {
     "name": "stdout",
     "output_type": "stream",
     "text": [
      "Parsing annotation files\n"
     ]
    },
    {
     "name": "stderr",
     "output_type": "stream",
     "text": [
      "/home/mh/ws/fish_challenge/Fishy-master/notbook/keras_frcnn/resnet.py:123: UserWarning: The `merge` function is deprecated and will be removed after 08/2017. Use instead layers from `keras.layers.merge`, e.g. `add`, `concatenate`, etc.\n",
      "  x = merge([x, shortcut], mode='sum')\n",
      "/home/mh/.local/lib/python3.5/site-packages/keras/legacy/layers.py:456: UserWarning: The `Merge` layer is deprecated and will be removed after 08/2017. Use instead layers from `keras.layers.merge`, e.g. `add`, `concatenate`, etc.\n",
      "  name=name)\n",
      "/home/mh/ws/fish_challenge/Fishy-master/notbook/keras_frcnn/resnet.py:50: UserWarning: The `merge` function is deprecated and will be removed after 08/2017. Use instead layers from `keras.layers.merge`, e.g. `add`, `concatenate`, etc.\n",
      "  x = merge([x, input_tensor], mode='sum')\n",
      "/home/mh/ws/fish_challenge/Fishy-master/notbook/keras_frcnn/resnet.py:161: UserWarning: The `merge` function is deprecated and will be removed after 08/2017. Use instead layers from `keras.layers.merge`, e.g. `add`, `concatenate`, etc.\n",
      "  x = merge([x, shortcut], mode='sum')\n",
      "/home/mh/ws/fish_challenge/Fishy-master/notbook/keras_frcnn/resnet.py:84: UserWarning: The `merge` function is deprecated and will be removed after 08/2017. Use instead layers from `keras.layers.merge`, e.g. `add`, `concatenate`, etc.\n",
      "  x = merge([x, input_tensor], mode='sum')\n"
     ]
    },
    {
     "name": "stdout",
     "output_type": "stream",
     "text": [
      "loading weights from  resnet50_weights_tf_dim_ordering_tf_kernels.h5\n",
      "Could not load pretrained model weights. Weights can be found at https://github.com/fchollet/deep-learning-models/releases/download/v0.2/resnet50_weights_th_dim_ordering_th_kernels_notop.h5 and https://github.com/fchollet/deep-learning-models/releases/download/v0.2/resnet50_weights_tf_dim_ordering_tf_kernels_notop.h5\n",
      "loaded weights\n"
     ]
    }
   ],
   "source": [
    "import random\n",
    "import pprint\n",
    "import sys\n",
    "import json\n",
    "from keras_frcnn import config\n",
    "\n",
    "sys.setrecursionlimit(40000)\n",
    "\n",
    "C = config.Config()\n",
    "C.num_rois = 2\n",
    "\n",
    "C.use_vertical_flips = True\n",
    "\n",
    "#from keras_frcnn.pascal_voc_parser import get_data\n",
    "from keras_frcnn.simple_parser import get_data\n",
    "\n",
    "from keras_frcnn import data_generators\n",
    "from keras import backend as K\n",
    "\n",
    "from keras_frcnn import resnet as nn\n",
    "from keras.optimizers import Adam, SGD\n",
    "from keras.layers import Input\n",
    "from keras.models import Model\n",
    "from keras.callbacks import EarlyStopping, ModelCheckpoint\n",
    "from keras_frcnn import losses\n",
    "from keras.callbacks import ReduceLROnPlateau\n",
    "\n",
    "all_imgs, classes_count, class_mapping = get_data('/home/mh/ws/fish_challenge/input/im2txt.txt')\n",
    "\n",
    "if K.image_dim_ordering() == 'th':\n",
    "\tinput_shape_img = (3, None, None)\n",
    "else:\n",
    "\tinput_shape_img = (None, None, 3)\n",
    "\n",
    "img_input = Input(shape=input_shape_img)\n",
    "\n",
    "roi_input = Input(shape=(C.num_rois, 4))\n",
    "\n",
    "# define the base network (resnet here, can be VGG, Inception, etc)\n",
    "shared_layers = nn.nn_base(img_input, trainable=True)\n",
    "\n",
    "# define the RPN, built on the base layers\n",
    "num_anchors = len(C.anchor_box_scales) * len(C.anchor_box_ratios)\n",
    "rpn = nn.rpn(shared_layers, num_anchors)\n",
    "\n",
    "# the classifier is build on top of the base layers + the ROI pooling layer + extra layers\n",
    "classifier = nn.classifier(shared_layers, roi_input, C.num_rois, nb_classes=len(classes_count)+1, trainable=True)\n",
    "\n",
    "# define the full model\n",
    "model = Model([img_input, roi_input], rpn + classifier)\n",
    "\n",
    "\n",
    "try:\n",
    "\tprint('loading weights from ', C.base_net_weights)\n",
    "\tmodel.load_weights('/home/mh/.keras/models'+resnet50_weights_tf_dim_ordering_tf_kernels_notop.h5,by_name=True)\n",
    "except:\n",
    "\tprint(('Could not load pretrained model weights. Weights can be found at {} and {}'.format(\n",
    "\t\t'https://github.com/fchollet/deep-learning-models/releases/download/v0.2/resnet50_weights_th_dim_ordering_th_kernels_notop.h5',\n",
    "        'https://github.com/fchollet/deep-learning-models/releases/download/v0.2/resnet50_weights_tf_dim_ordering_tf_kernels_notop.h5'\n",
    "\t        )))\n",
    "\n",
    "sgd = SGD(lr=1e-2, decay=1e-4, momentum=0.88, nesterov=False)\n",
    "adam = Adam(1e-5, decay=0.0)\n",
    "\n",
    "print('loaded weights')\n",
    "model.compile(optimizer=adam, loss=[losses.rpn_loss_cls(num_anchors), losses.rpn_loss_regr(num_anchors), losses.class_loss_cls, losses.class_loss_regr(C.num_rois,len(classes_count)-1)], metrics={'dense_class_{}_loss'.format(len(classes_count)): 'accuracy'})\n",
    "\n",
    "callbacks = [EarlyStopping(monitor='val_loss', patience=20, verbose=0),\n",
    "\t\t\t\tModelCheckpoint(C.model_path, monitor='val_loss', save_best_only=True, verbose=0),\n",
    "\t\t\t ReduceLROnPlateau(monitor='loss', factor=0.1, patience=5, min_lr=1e-7, verbose=1)]\n",
    "\n",
    "\n",
    "model.load_weights('/home/mh/ws/fish_challenge/input/'+'models/frcnn_1_7epochs.h5')\n",
    "\n"
   ]
  },
  {
   "cell_type": "code",
   "execution_count": null,
   "metadata": {
    "collapsed": true
   },
   "outputs": [],
   "source": []
  }
 ],
 "metadata": {
  "kernelspec": {
   "display_name": "Python 3",
   "language": "python",
   "name": "python3"
  },
  "language_info": {
   "codemirror_mode": {
    "name": "ipython",
    "version": 3
   },
   "file_extension": ".py",
   "mimetype": "text/x-python",
   "name": "python",
   "nbconvert_exporter": "python",
   "pygments_lexer": "ipython3",
   "version": "3.5.2"
  }
 },
 "nbformat": 4,
 "nbformat_minor": 2
}
