{
 "cells": [
  {
   "cell_type": "code",
   "execution_count": 2,
   "metadata": {
    "collapsed": false
   },
   "outputs": [
    {
     "name": "stderr",
     "output_type": "stream",
     "text": [
      "Using TensorFlow backend.\n"
     ]
    },
    {
     "ename": "ImportError",
     "evalue": "No module named 'losses'",
     "output_type": "error",
     "traceback": [
      "\u001b[0;31m---------------------------------------------------------------------------\u001b[0m",
      "\u001b[0;31mImportError\u001b[0m                               Traceback (most recent call last)",
      "\u001b[0;32m<ipython-input-2-e0f2e4750b99>\u001b[0m in \u001b[0;36m<module>\u001b[0;34m()\u001b[0m\n\u001b[1;32m      7\u001b[0m \u001b[0;32mfrom\u001b[0m \u001b[0mvis\u001b[0m\u001b[0;34m.\u001b[0m\u001b[0mutils\u001b[0m \u001b[0;32mimport\u001b[0m \u001b[0mutils\u001b[0m\u001b[0;34m\u001b[0m\u001b[0m\n\u001b[1;32m      8\u001b[0m \u001b[0;32mfrom\u001b[0m \u001b[0mvis\u001b[0m\u001b[0;34m.\u001b[0m\u001b[0mutils\u001b[0m\u001b[0;34m.\u001b[0m\u001b[0mvggnet\u001b[0m \u001b[0;32mimport\u001b[0m \u001b[0mVGG16\u001b[0m\u001b[0;34m\u001b[0m\u001b[0m\n\u001b[0;32m----> 9\u001b[0;31m \u001b[0;32mfrom\u001b[0m \u001b[0mvis\u001b[0m\u001b[0;34m.\u001b[0m\u001b[0mvisualization\u001b[0m \u001b[0;32mimport\u001b[0m \u001b[0mvisualize_saliency\u001b[0m\u001b[0;34m\u001b[0m\u001b[0m\n\u001b[0m\u001b[1;32m     10\u001b[0m \u001b[0;32mfrom\u001b[0m \u001b[0mvis\u001b[0m\u001b[0;34m.\u001b[0m\u001b[0mvisualization\u001b[0m \u001b[0;32mimport\u001b[0m \u001b[0mvisualize_cam\u001b[0m\u001b[0;34m\u001b[0m\u001b[0m\n\u001b[1;32m     11\u001b[0m \u001b[0;34m\u001b[0m\u001b[0m\n",
      "\u001b[0;32m/home/mh/.local/lib/python3.5/site-packages/vis/visualization.py\u001b[0m in \u001b[0;36m<module>\u001b[0;34m()\u001b[0m\n\u001b[1;32m      3\u001b[0m \u001b[0;32mfrom\u001b[0m \u001b[0mkeras\u001b[0m \u001b[0;32mimport\u001b[0m \u001b[0mbackend\u001b[0m \u001b[0;32mas\u001b[0m \u001b[0mK\u001b[0m\u001b[0;34m\u001b[0m\u001b[0m\n\u001b[1;32m      4\u001b[0m \u001b[0;34m\u001b[0m\u001b[0m\n\u001b[0;32m----> 5\u001b[0;31m \u001b[0;32mfrom\u001b[0m \u001b[0mlosses\u001b[0m \u001b[0;32mimport\u001b[0m \u001b[0mActivationMaximization\u001b[0m\u001b[0;34m\u001b[0m\u001b[0m\n\u001b[0m\u001b[1;32m      6\u001b[0m \u001b[0;32mfrom\u001b[0m \u001b[0moptimizer\u001b[0m \u001b[0;32mimport\u001b[0m \u001b[0mOptimizer\u001b[0m\u001b[0;34m\u001b[0m\u001b[0m\n\u001b[1;32m      7\u001b[0m \u001b[0;32mfrom\u001b[0m \u001b[0mregularizers\u001b[0m \u001b[0;32mimport\u001b[0m \u001b[0mTotalVariation\u001b[0m\u001b[0;34m,\u001b[0m \u001b[0mLPNorm\u001b[0m\u001b[0;34m\u001b[0m\u001b[0m\n",
      "\u001b[0;31mImportError\u001b[0m: No module named 'losses'"
     ]
    }
   ],
   "source": [
    "import sys\n",
    "sys.path.insert(1, '/home/mh/opencv-master/build/lib/python3')\n",
    "import cv2\n",
    "import numpy as np\n",
    "\n",
    "from keras.preprocessing.image import img_to_array\n",
    "from vis.utils import utils\n",
    "from vis.utils.vggnet import VGG16\n",
    "from vis.visualization import visualize_saliency\n",
    "from vis.visualization import visualize_cam\n",
    "\n",
    "\n",
    "def generate_saliceny_map():\n",
    "    \"\"\"Generates a heatmap indicating the pixels that contributed the most towards\n",
    "    maximizing the filter output. First, the class prediction is determined, then we generate heatmap\n",
    "    to visualize that class.\n",
    "    \"\"\"\n",
    "    # Build the VGG16 network with ImageNet weights\n",
    "    model = VGG16(weights='imagenet', include_top=True)\n",
    "    print('Model loaded.')\n",
    "\n",
    "    # The name of the layer we want to visualize\n",
    "    # (see model definition in vggnet.py)\n",
    "    layer_name = 'predictions'\n",
    "    layer_idx = [idx for idx, layer in enumerate(model.layers) if layer.name == layer_name][0]\n",
    "\n",
    "    for path in ['../resources/ouzel.jpg', '../resources/ouzel_1.jpg']:\n",
    "        seed_img = utils.load_img(path, target_size=(224, 224))\n",
    "        pred_class = np.argmax(model.predict(np.array([img_to_array(seed_img)])))\n",
    "        heatmap = visualize_saliency(model, layer_idx, [pred_class], seed_img)\n",
    "        cv2.imshow('Saliency - {}'.format(utils.get_imagenet_label(pred_class)), heatmap)\n",
    "        cv2.waitKey(0)\n",
    "\n",
    "\n",
    "def generate_cam():\n",
    "    \"\"\"Generates a heatmap via grad-CAM method.\n",
    "    First, the class prediction is determined, then we generate heatmap to visualize that class.\n",
    "    \"\"\"\n",
    "    # Build the VGG16 network with ImageNet weights\n",
    "    model = VGG16(weights='imagenet', include_top=True)\n",
    "    print('Model loaded.')\n",
    "\n",
    "    # The name of the layer we want to visualize\n",
    "    # (see model definition in vggnet.py)\n",
    "    layer_name = 'predictions'\n",
    "    layer_idx = [idx for idx, layer in enumerate(model.layers) if layer.name == layer_name][0]\n",
    "\n",
    "    for path in ['https://upload.wikimedia.org/wikipedia/commons/thumb/1/1c/Tigerwater_edit2.jpg/170px-Tigerwater_edit2.jpg']:\n",
    "        seed_img = utils.load_img(path, target_size=(224, 224))\n",
    "        pred_class = np.argmax(model.predict(np.array([img_to_array(seed_img)])))\n",
    "        heatmap = visualize_cam(model, layer_idx, [pred_class], seed_img)\n",
    "        cv2.imshow('Attention - {}'.format(utils.get_imagenet_label(pred_class)), heatmap)\n",
    "        cv2.waitKey(0)\n",
    "\n",
    "\n",
    "if __name__ == '__main__':\n",
    "    generate_cam()\n"
   ]
  }
 ],
 "metadata": {
  "kernelspec": {
   "display_name": "Python 3",
   "language": "python",
   "name": "python3"
  },
  "language_info": {
   "codemirror_mode": {
    "name": "ipython",
    "version": 3
   },
   "file_extension": ".py",
   "mimetype": "text/x-python",
   "name": "python",
   "nbconvert_exporter": "python",
   "pygments_lexer": "ipython3",
   "version": "3.5.2"
  }
 },
 "nbformat": 4,
 "nbformat_minor": 2
}
